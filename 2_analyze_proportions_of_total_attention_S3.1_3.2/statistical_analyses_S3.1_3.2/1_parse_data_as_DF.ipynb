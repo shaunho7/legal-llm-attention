{
  "cells": [
    {
      "cell_type": "markdown",
      "metadata": {},
      "source": [
        "Ensure that this notebook is moved one level up to the directory '2_analyze_proportions_of_total_attention_S3.1_3.2'.\n",
        "The data found in this directory is generated from the notebooks in the directory '1_generate_raw_data'."
      ]
    },
    {
      "cell_type": "markdown",
      "metadata": {},
      "source": [
        "The output of this notebook is a .csv file 'proportions_data.csv'.\n",
        "This is a table where each row contains various measures and comparisons of the proportion of total attention each model paid to subsets of tokens representing legal concepts. Each row is a distinct observation of a specific attention head (given by layer-head index) and legal concept."
      ]
    },
    {
      "cell_type": "code",
      "execution_count": 5,
      "metadata": {
        "id": "l9SYxn2qqVvi"
      },
      "outputs": [],
      "source": [
        "import numpy as np\n",
        "import pandas as pd\n",
        "import os\n",
        "import glob\n",
        "\n",
        "# Mapping dictionary for easier references\n",
        "mapping_dict = {\n",
        "    'EquallSaul-7B-Base': 'saul_base',\n",
        "    'EquallSaul-7B-Instruct-v1': 'saul_ift',\n",
        "    'mistralaiMistral-7B-v0.1': 'mistral_base'\n",
        "}\n",
        "\n",
        "# Glob pattern to match the required files\n",
        "file_pattern = '*_*_proportions.npy'\n",
        "\n",
        "# Get the list of all matching files\n",
        "files = glob.glob(file_pattern)\n",
        "\n",
        "# Create an empty list to store the extracted rows\n",
        "rows = []\n",
        "\n",
        "# Function to extract experiment_id from filename\n",
        "def get_experiment_id(filepath):\n",
        "    return os.path.basename(filepath).split('_')[0]  # facet-1, facet-2, etc.\n",
        "\n",
        "# Function to extract unmapped_model_id from filename\n",
        "def get_unmapped_model_id(filepath):\n",
        "    return os.path.basename(filepath).split('_')[1].replace('_proportions.npy', '')\n",
        "\n",
        "# Function to map model names using mapping_dict\n",
        "def get_model_name(unmapped_model_id):\n",
        "    for key, short_name in mapping_dict.items():\n",
        "        if key in unmapped_model_id:\n",
        "            return short_name\n",
        "    return None\n",
        "\n",
        "# Create a dictionary to hold loaded numpy arrays\n",
        "loaded_data = {}\n",
        "\n",
        "# Load each file into memory\n",
        "for file in files:\n",
        "    experiment_id = get_experiment_id(file)\n",
        "    unmapped_model_id = get_unmapped_model_id(file)\n",
        "    model_name = get_model_name(unmapped_model_id)\n",
        "\n",
        "    # Skip files that don't match any known model\n",
        "    if model_name is None:\n",
        "        continue\n",
        "\n",
        "    if experiment_id not in loaded_data:\n",
        "        loaded_data[experiment_id] = {}\n",
        "\n",
        "    # Load the numpy array and store it\n",
        "    loaded_data[experiment_id][model_name] = np.load(file)\n",
        "\n",
        "# Iterate over the loaded data and construct rows\n",
        "for experiment_id, models_data in loaded_data.items():\n",
        "    for layer in range(32):\n",
        "        for head in range(32):\n",
        "            prop_mistral = models_data.get('mistral_base', np.zeros((32, 32)))[layer][head]\n",
        "            prop_saulbase = models_data.get('saul_base', np.zeros((32, 32)))[layer][head]\n",
        "            prop_saulift = models_data.get('saul_ift', np.zeros((32, 32)))[layer][head]\n",
        "\n",
        "            row = {\n",
        "                'experiment_id': experiment_id,\n",
        "                'layer_depth': layer,\n",
        "                'head_idx': head,\n",
        "                'prop_mistralbase': prop_mistral,\n",
        "                'prop_saulbase': prop_saulbase,\n",
        "                'prop_saulift': prop_saulift,\n",
        "                'saulbase-mistral': prop_saulbase - prop_mistral,\n",
        "                'saulift-mistral': prop_saulift - prop_mistral,\n",
        "                'saulift-saulbase': prop_saulift - prop_saulbase\n",
        "            }\n",
        "            rows.append(row)\n",
        "\n",
        "# Convert the list of rows to a DataFrame\n",
        "df = pd.DataFrame(rows)\n",
        "\n",
        "df.to_csv('/content/proportions_data.csv', index=False)"
      ]
    }
  ],
  "metadata": {
    "colab": {
      "provenance": []
    },
    "kernelspec": {
      "display_name": "Python 3",
      "name": "python3"
    },
    "language_info": {
      "name": "python"
    }
  },
  "nbformat": 4,
  "nbformat_minor": 0
}
